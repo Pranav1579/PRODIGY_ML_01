{
 "cells": [
  {
   "cell_type": "code",
   "execution_count": 14,
   "metadata": {},
   "outputs": [
    {
     "name": "stdout",
     "output_type": "stream",
     "text": [
      "      Actual Price  Predicted Price\n",
      "1357        161000    135209.046192\n",
      "2367        116000     94345.960908\n",
      "2822        196500    189367.111107\n",
      "2126        123600    120901.492418\n",
      "1544        126000    131085.858259\n",
      "...            ...              ...\n",
      "2268        187500    169803.920209\n",
      "456         552000    376911.308647\n",
      "462         173000    195906.023159\n",
      "2168        118500    133185.799896\n",
      "1488        147500    175646.113539\n",
      "\n",
      "[586 rows x 2 columns]\n"
     ]
    }
   ],
   "source": [
    "import pandas as pd\n",
    "from sklearn.model_selection import train_test_split\n",
    "from sklearn.linear_model import LinearRegression\n",
    "from sklearn.metrics import mean_squared_error, r2_score\n",
    "from sklearn.impute import SimpleImputer\n",
    "\n",
    "# Load the dataset\n",
    "data = pd.read_csv('/Users/pranavsubedar/Desktop/AmesHousing.csv')\n",
    "\n",
    "\n",
    "# Select the relevant features\n",
    "X = data[['1st Flr SF', '2nd Flr SF', 'Low Qual Fin SF', 'Bedroom AbvGr', 'Bsmt Full Bath', 'Bsmt Half Bath', 'Full Bath', 'Half Bath']]\n",
    "y = data['SalePrice']\n",
    "\n",
    "\n",
    "# Handle missing values (replace NaN with the mean)\n",
    "imputer = SimpleImputer(strategy='mean')\n",
    "X = imputer.fit_transform(X)\n",
    "\n",
    "\n",
    "# Split the data into training and testing sets\n",
    "X_train, X_test, y_train, y_test = train_test_split(X, y, test_size=0.2, random_state=42)\n",
    "\n",
    "\n",
    "# Create and train the linear regression model\n",
    "model = LinearRegression()\n",
    "model.fit(X_train, y_train)\n",
    "\n",
    "\n",
    "# Make predictions on the test set\n",
    "y_pred = model.predict(X_test)\n",
    "\n",
    "\n",
    "# Display actual and predicted prices\n",
    "result_df = pd.DataFrame({'Actual Price': y_test, 'Predicted Price': y_pred})\n",
    "print(result_df)\n"
   ]
  }
 ],
 "metadata": {
  "kernelspec": {
   "display_name": "Python 3",
   "language": "python",
   "name": "python3"
  },
  "language_info": {
   "codemirror_mode": {
    "name": "ipython",
    "version": 3
   },
   "file_extension": ".py",
   "mimetype": "text/x-python",
   "name": "python",
   "nbconvert_exporter": "python",
   "pygments_lexer": "ipython3",
   "version": "3.10.5"
  }
 },
 "nbformat": 4,
 "nbformat_minor": 2
}
